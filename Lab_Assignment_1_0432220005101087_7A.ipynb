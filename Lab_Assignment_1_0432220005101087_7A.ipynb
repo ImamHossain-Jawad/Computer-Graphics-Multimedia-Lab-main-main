{
  "cells": [
    {
      "cell_type": "markdown",
      "metadata": {
        "id": "view-in-github",
        "colab_type": "text"
      },
      "source": [
        "<a href=\"https://colab.research.google.com/github/ImamHossain-Jawad/Computer-Graphics-Multimedia-Lab-main-main/blob/main/Lab_Assignment_1_0432220005101087_7A.ipynb\" target=\"_parent\"><img src=\"https://colab.research.google.com/assets/colab-badge.svg\" alt=\"Open In Colab\"/></a>"
      ]
    },
    {
      "cell_type": "code",
      "source": [
        "# --- One-Sample t-Test Assignment (Colab Ready) ---\n",
        "# Student ID based dataset generation, t-test, visualization, and PDF export\n",
        "\n",
        "import numpy as np\n",
        "from scipy import stats\n",
        "import matplotlib.pyplot as plt\n",
        "import pandas as pd\n",
        "\n",
        "# ReportLab for PDF generation\n",
        "from reportlab.pdfgen import canvas\n",
        "from reportlab.lib.pagesizes import letter\n",
        "from reportlab.lib.units import inch\n",
        "from reportlab.lib.utils import ImageReader\n",
        "\n",
        "# ----------------------\n",
        "# 1) Setup Student ID\n",
        "# ----------------------\n",
        "student_id = \"0432220005101087\"   # <-- change to your own ID if needed\n",
        "k = int(student_id[-2:])          # last two digits\n",
        "offset = k % 5                    # offset for dataset\n",
        "np.random.seed(k)                 # reproducibility based on ID\n",
        "\n",
        "# ----------------------\n",
        "# 2) Generate Dataset\n",
        "# ----------------------\n",
        "n = 12\n",
        "data = 60 + np.random.randint(0, 15, size=n) + offset\n",
        "hyp_mean = 65.0\n",
        "\n",
        "print(\"Generated dataset:\", data)\n",
        "\n",
        "# ----------------------\n",
        "# 3) Perform One-Sample t-Test\n",
        "# ----------------------\n",
        "t_stat, p_value = stats.ttest_1samp(data, popmean=hyp_mean)\n",
        "df = n - 1\n",
        "sample_mean = np.mean(data)\n",
        "sample_std = np.std(data, ddof=1)\n",
        "se = sample_std / np.sqrt(n)\n",
        "\n",
        "# Confidence Interval (95%)\n",
        "ci_low, ci_high = stats.t.interval(\n",
        "    confidence=0.95, df=df, loc=sample_mean, scale=se\n",
        "    )\n",
        "\n",
        "# Decision\n",
        "alpha = 0.05\n",
        "reject_null = p_value < alpha\n",
        "decision_text = \"Reject H₀\" if reject_null else \"Fail to reject H₀\"\n",
        "\n",
        "print(\"\\n--- Results ---\")\n",
        "print(f\"Sample size (n): {n}\")\n",
        "print(f\"Degrees of freedom (df): {df}\")\n",
        "print(f\"Sample mean: {sample_mean:.3f}\")\n",
        "print(f\"Sample standard deviation: {sample_std:.3f}\")\n",
        "print(f\"Standard error (SE): {se:.3f}\")\n",
        "print(f\"t-statistic: {t_stat:.3f}\")\n",
        "print(f\"p-value: {p_value:.4f}\")\n",
        "print(f\"95% CI: [{ci_low:.3f}, {ci_high:.3f}]\")\n",
        "print(f\"Decision at α=0.05: {decision_text}\")\n",
        "\n",
        "# ----------------------\n",
        "# 4) Visualization\n",
        "# ----------------------\n",
        "plt.figure(figsize=(6, 4))\n",
        "plt.errorbar([0], [sample_mean], yerr=[se], fmt='o', capsize=5)\n",
        "plt.axhline(hyp_mean, linestyle='--', color=\"red\", label=\"Hypothesized Mean (65)\")\n",
        "plt.xticks([0], [\"Sample\"])\n",
        "plt.ylabel(\"Exam Score\")\n",
        "plt.title(\"Sample Mean ± 1 SE vs. Hypothesized Mean\")\n",
        "plt.legend()\n",
        "plt.tight_layout()\n",
        "plot_path = \"ttest_plot.png\"\n",
        "plt.savefig(plot_path, dpi=200, bbox_inches=\"tight\")\n",
        "plt.show()\n",
        "\n",
        "# ----------------------\n",
        "# 5) Create PDF Report\n",
        "# ----------------------\n",
        "pdf_path = \"one_sample_ttest_report.pdf\"\n",
        "c = canvas.Canvas(pdf_path, pagesize=letter)\n",
        "width, height = letter\n",
        "\n",
        "# Title\n",
        "c.setFont(\"Helvetica-Bold\", 16)\n",
        "c.drawString(1 * inch, height - 1 * inch, \"One-Sample t-Test Report\")\n",
        "\n",
        "# Write results\n",
        "c.setFont(\"Helvetica\", 11)\n",
        "y = height - 1.4 * inch\n",
        "\n",
        "lines = [\n",
        "    f\"Student ID: {student_id}\",\n",
        "    f\"Last two digits (k): {k}\",\n",
        "    f\"k % 5: {offset}\",\n",
        "    f\"Dataset Rule: exam scores = 60 + randint(0, 15, size=12) + (k % 5)\",\n",
        "    \"\",\n",
        "    \"Hypotheses:\",\n",
        "    \"  H₀: The population mean = 65\",\n",
        "    \"  H₁: The population mean ≠ 65\",\n",
        "    \"\",\n",
        "    \"Results:\",\n",
        "    f\"  Sample size (n): {n}\",\n",
        "    f\"  Degrees of freedom (df): {df}\",\n",
        "    f\"  Sample mean: {sample_mean:.3f}\",\n",
        "    f\"  Sample standard deviation: {sample_std:.3f}\",\n",
        "    f\"  Standard error (SE): {se:.3f}\",\n",
        "    f\"  t-statistic: {t_stat:.3f}\",\n",
        "    f\"  p-value: {p_value:.4f}\",\n",
        "    f\"  95% CI for mean: [{ci_low:.3f}, {ci_high:.3f}]\",\n",
        "    f\"Decision at α = 0.05: {decision_text}\",\n",
        "]\n",
        "\n",
        "for line in lines:\n",
        "    c.drawString(1 * inch, y, line)\n",
        "    y -= 14\n",
        "\n",
        "# Insert plot\n",
        "img = ImageReader(plot_path)\n",
        "c.drawImage(img, 1 * inch, y - 3.2 * inch, width=5.2 * inch, height=3.2 * inch)\n",
        "\n",
        "c.save()\n",
        "\n",
        "print(f\"\\nPDF report generated: {pdf_path}\")"
      ],
      "metadata": {
        "colab": {
          "base_uri": "https://localhost:8080/",
          "height": 755
        },
        "id": "iksRG0k7DIRN",
        "outputId": "4263fb5b-ef55-49f3-a669-43cedba2966b"
      },
      "execution_count": 9,
      "outputs": [
        {
          "output_type": "stream",
          "name": "stdout",
          "text": [
            "Generated dataset: [68 75 73 73 68 68 65 62 71 74 62 75]\n",
            "\n",
            "--- Results ---\n",
            "Sample size (n): 12\n",
            "Degrees of freedom (df): 11\n",
            "Sample mean: 69.500\n",
            "Sample standard deviation: 4.739\n",
            "Standard error (SE): 1.368\n",
            "t-statistic: 3.290\n",
            "p-value: 0.0072\n",
            "95% CI: [66.489, 72.511]\n",
            "Decision at α=0.05: Reject H₀\n"
          ]
        },
        {
          "output_type": "display_data",
          "data": {
            "text/plain": [
              "<Figure size 600x400 with 1 Axes>"
            ],
            "image/png": "[encoded data removed]"
          },
          "metadata": {}
        },
        {
          "output_type": "stream",
          "name": "stdout",
          "text": [
            "\n",
            "PDF report generated: one_sample_ttest_report.pdf\n"
          ]
        }
      ]
    },
    {
      "cell_type": "markdown",
      "source": [],
      "metadata": {
        "id": "Q-53i8rLDIEg"
      }
    }
  ],
  "metadata": {
    "colab": {
      "name": "Welcome to Colab",
      "toc_visible": true,
      "provenance": [],
      "include_colab_link": true
    },
    "kernelspec": {
      "display_name": "Python 3",
      "name": "python3"
    }
  },
  "nbformat": 4,
  "nbformat_minor": 0
}