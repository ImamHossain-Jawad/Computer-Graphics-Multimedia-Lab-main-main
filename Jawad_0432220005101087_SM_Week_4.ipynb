{
  "nbformat": 4,
  "nbformat_minor": 0,
  "metadata": {
    "colab": {
      "provenance": [],
      "authorship_tag": "ABX9TyO/Cn4e4aalawOuu1aA7YF1",
      "include_colab_link": true
    },
    "kernelspec": {
      "name": "python3",
      "display_name": "Python 3"
    },
    "language_info": {
      "name": "python"
    }
  },
  "cells": [
    {
      "cell_type": "markdown",
      "metadata": {
        "id": "view-in-github",
        "colab_type": "text"
      },
      "source": [
        "<a href=\"https://colab.research.google.com/github/ImamHossain-Jawad/Computer-Graphics-Multimedia-Lab-main-main/blob/main/Jawad_0432220005101087_SM_Week_4.ipynb\" target=\"_parent\"><img src=\"https://colab.research.google.com/assets/colab-badge.svg\" alt=\"Open In Colab\"/></a>"
      ]
    },
    {
      "cell_type": "markdown",
      "source": [
        "# Simulation and Modeling Lab — Day 4\n",
        "**Course Code:** CSE 413   \n",
        "**Course Title::** Simulation & Modeling Lab  \n",
        "**Instructor:** Audity Ghosh  \n",
        "**Student Name:**  Imam Hossain Jawad  \n",
        "**Student ID:** 0432220005101087   \n",
        "**Date:** 11 August,2025"
      ],
      "metadata": {
        "id": "Snf09MDL0Bec"
      }
    },
    {
      "cell_type": "code",
      "source": [
        "import random\n",
        "\n",
        "def estimate_pi(num_points):\n",
        "    inside = 0\n",
        "\n",
        "    for _ in range(num_points):\n",
        "        x = random.random()\n",
        "        y = random.random()\n",
        "\n",
        "        if x * x + y * y <= 1:\n",
        "            inside += 1\n",
        "\n",
        "    pi = (inside / num_points) * 4\n",
        "    print(\"Estimated pi for\", num_points, \"points is:\", pi)\n",
        "\n",
        "# Try this with different number of points\n",
        "estimate_pi(1000)\n",
        "estimate_pi(5000)\n",
        "estimate_pi(10000)"
      ],
      "metadata": {
        "colab": {
          "base_uri": "https://localhost:8080/"
        },
        "id": "3RJHGMazu0gR",
        "outputId": "a071e7a3-c063-412b-8fa3-840cd66c88ee"
      },
      "execution_count": 11,
      "outputs": [
        {
          "output_type": "stream",
          "name": "stdout",
          "text": [
            "Estimated pi for 1000 points is: 3.144\n",
            "Estimated pi for 5000 points is: 3.1368\n",
            "Estimated pi for 10000 points is: 3.1688\n"
          ]
        }
      ]
    },
    {
      "cell_type": "code",
      "execution_count": 12,
      "metadata": {
        "colab": {
          "base_uri": "https://localhost:8080/"
        },
        "id": "5McQR68fpJrA",
        "outputId": "ad3c0280-4b42-48ad-c0ed-e34f491e1a06"
      },
      "outputs": [
        {
          "output_type": "stream",
          "name": "stdout",
          "text": [
            "Range Used   Total Points   Points Inside   Estimated π     Error          \n",
            "8.70         3200           2466            3.082500        0.059093       \n",
            "8.70         6400           4988            3.117500        0.024093       \n",
            "8.70         9600           7523            3.134583        0.007009       \n",
            "8.70         12800          10162           3.175625        0.034032       \n",
            "8.70         16000          12642           3.160500        0.018907       \n"
          ]
        }
      ],
      "source": [
        "import random                   # Import the random module for generating random floats using uniform()\n",
        "import numpy as np              # Import numpy for vectorized operations using numpy arrays\n",
        "import math                     # Import the math module for using the mathematical constant π (pi)\n",
        "\n",
        "# Set student ID\n",
        "student_id = \"87\"\n",
        "\n",
        "# Extract the last two digits and convert to integer\n",
        "R = int(student_id[-2:])        # R = 87\n",
        "\n",
        "# Define range and circle radius using the last two digits\n",
        "range_max = R / 10              # The side length of the square (8.7)\n",
        "radius = R / 10                 # The radius of the circle (8.7)\n",
        "\n",
        "# Full name\n",
        "full_name = \"Imam Hossain Jawad\"\n",
        "\n",
        "# Count letters in name, excluding spaces\n",
        "letters_count = len(full_name.replace(\" \", \"\"))  # 17 letters\n",
        "\n",
        "# Set base number of points proportional to name length\n",
        "base_points = 200 * letters_count                # 200 * 17 = 3400\n",
        "\n",
        "# Function to check if a point (x, y) lies inside the circle centered at (0, 0)\n",
        "def is_inside_circle(x, y, radius):\n",
        "    return x**2 + y**2 <= radius**2              # Checks if point is within circle (Pythagorean theorem)\n",
        "\n",
        "# Function to estimate the value of pi using Monte Carlo simulation\n",
        "def estimate_pi(num_points):\n",
        "    inside = 0          # Counter for points inside the circle\n",
        "    outside = 0         # Counter for points outside the circle\n",
        "\n",
        "    # First half of the points generated using random.uniform (standard library)\n",
        "    for _ in range(num_points // 2):\n",
        "        x = random.uniform(0, range_max)         # Random x within square\n",
        "        y = random.uniform(0, range_max)         # Random y within square\n",
        "        if is_inside_circle(x, y, radius):       # Check if the point lies inside the circle\n",
        "            inside += 1\n",
        "        else:\n",
        "            outside += 1\n",
        "\n",
        "    # Second half of the points generated using numpy for better performance\n",
        "    xs = np.random.rand(num_points // 2) * range_max   # Array of x values scaled to range_max\n",
        "    ys = np.random.rand(num_points // 2) * range_max   # Array of y values scaled to range_max\n",
        "    for x, y in zip(xs, ys):                           # Iterate over paired x, y points\n",
        "        if is_inside_circle(x, y, radius):             # Check if point is inside circle\n",
        "            inside += 1\n",
        "        else:\n",
        "            outside += 1\n",
        "\n",
        "    # Estimate π using the ratio of inside points to total points\n",
        "    # Multiply by area ratio to adjust for square vs circle scaling\n",
        "    estimated_pi = (inside / num_points) * ((range_max ** 2) / (radius ** 2)) * 4\n",
        "\n",
        "    # Calculate absolute error compared to actual π\n",
        "    error = abs(math.pi - estimated_pi)\n",
        "\n",
        "    return inside, outside, estimated_pi, error        # Return results\n",
        "\n",
        "# Print table headers with formatted spacing\n",
        "print(f\"{'Range Used':<12} {'Total Points':<14} {'Points Inside':<15} {'Estimated π':<15} {'Error':<15}\")\n",
        "\n",
        "# Loop over 5 iterations, scaling total number of points each time\n",
        "for i in range(1, 6):\n",
        "    total_points = base_points * i                     # Increase total points linearly\n",
        "    inside, outside, est_pi, err = estimate_pi(total_points)  # Estimate π\n",
        "    # Print results for each iteration in formatted columns\n",
        "    print(f\"{range_max:<12.2f} {total_points:<14} {inside:<15} {est_pi:<15.6f} {err:<15.6f}\")\n",
        "\n"
      ]
    }
  ]
}